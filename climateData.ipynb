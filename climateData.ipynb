{
 "cells": [
  {
   "cell_type": "code",
   "execution_count": 1,
   "metadata": {},
   "outputs": [],
   "source": [
    "import netCDF4 as nc\n",
    "import pandas as pd\n",
    "import os\n",
    "import numpy as np"
   ]
  },
  {
   "cell_type": "code",
   "execution_count": 3,
   "metadata": {},
   "outputs": [
    {
     "ename": "KeyboardInterrupt",
     "evalue": "",
     "output_type": "error",
     "traceback": [
      "\u001b[0;31m---------------------------------------------------------------------------\u001b[0m",
      "\u001b[0;31mKeyboardInterrupt\u001b[0m                         Traceback (most recent call last)",
      "Cell \u001b[0;32mIn[3], line 39\u001b[0m\n\u001b[1;32m     37\u001b[0m             filtered_latitudes\u001b[38;5;241m.\u001b[39mappend(latitudes[lat_index])\n\u001b[1;32m     38\u001b[0m             filtered_longitudes\u001b[38;5;241m.\u001b[39mappend(longitudes[lon_index])\n\u001b[0;32m---> 39\u001b[0m             filtered_precip\u001b[38;5;241m.\u001b[39mappend(\u001b[43mprecip\u001b[49m\u001b[43m[\u001b[49m\u001b[43mt\u001b[49m\u001b[43m,\u001b[49m\u001b[43m \u001b[49m\u001b[43mlat_index\u001b[49m\u001b[43m,\u001b[49m\u001b[43m \u001b[49m\u001b[43mlon_index\u001b[49m\u001b[43m]\u001b[49m)\n\u001b[1;32m     41\u001b[0m \u001b[38;5;66;03m# Create DataFrame\u001b[39;00m\n\u001b[1;32m     42\u001b[0m df \u001b[38;5;241m=\u001b[39m pd\u001b[38;5;241m.\u001b[39mDataFrame({\n\u001b[1;32m     43\u001b[0m     \u001b[38;5;124m'\u001b[39m\u001b[38;5;124mtime\u001b[39m\u001b[38;5;124m'\u001b[39m: filtered_times,\n\u001b[1;32m     44\u001b[0m     \u001b[38;5;124m'\u001b[39m\u001b[38;5;124mlatitude\u001b[39m\u001b[38;5;124m'\u001b[39m: filtered_latitudes,\n\u001b[1;32m     45\u001b[0m     \u001b[38;5;124m'\u001b[39m\u001b[38;5;124mlongitude\u001b[39m\u001b[38;5;124m'\u001b[39m: filtered_longitudes,\n\u001b[1;32m     46\u001b[0m     \u001b[38;5;124m'\u001b[39m\u001b[38;5;124mprecip\u001b[39m\u001b[38;5;124m'\u001b[39m: filtered_precip\n\u001b[1;32m     47\u001b[0m })\n",
      "File \u001b[0;32msrc/netCDF4/_netCDF4.pyx:5024\u001b[0m, in \u001b[0;36mnetCDF4._netCDF4.Variable.__getitem__\u001b[0;34m()\u001b[0m\n",
      "File \u001b[0;32msrc/netCDF4/_netCDF4.pyx:5238\u001b[0m, in \u001b[0;36mnetCDF4._netCDF4.Variable._toma\u001b[0;34m()\u001b[0m\n",
      "File \u001b[0;32m~/Documents/GitHub/climate-health-bangladesh/climate_health_bangladesh/lib/python3.9/site-packages/numpy/ma/core.py:2859\u001b[0m, in \u001b[0;36mMaskedArray.__new__\u001b[0;34m(cls, data, mask, dtype, copy, subok, ndmin, fill_value, keep_mask, hard_mask, shrink, order)\u001b[0m\n\u001b[1;32m   2857\u001b[0m     _data \u001b[38;5;241m=\u001b[39m ndarray\u001b[38;5;241m.\u001b[39mview(_data, \u001b[38;5;28mtype\u001b[39m(data))\n\u001b[1;32m   2858\u001b[0m \u001b[38;5;28;01melse\u001b[39;00m:\n\u001b[0;32m-> 2859\u001b[0m     _data \u001b[38;5;241m=\u001b[39m \u001b[43mndarray\u001b[49m\u001b[38;5;241;43m.\u001b[39;49m\u001b[43mview\u001b[49m\u001b[43m(\u001b[49m\u001b[43m_data\u001b[49m\u001b[43m,\u001b[49m\u001b[43m \u001b[49m\u001b[38;5;28;43mcls\u001b[39;49m\u001b[43m)\u001b[49m\n\u001b[1;32m   2861\u001b[0m \u001b[38;5;66;03m# Handle the case where data is not a subclass of ndarray, but\u001b[39;00m\n\u001b[1;32m   2862\u001b[0m \u001b[38;5;66;03m# still has the _mask attribute like MaskedArrays\u001b[39;00m\n\u001b[1;32m   2863\u001b[0m \u001b[38;5;28;01mif\u001b[39;00m \u001b[38;5;28mhasattr\u001b[39m(data, \u001b[38;5;124m'\u001b[39m\u001b[38;5;124m_mask\u001b[39m\u001b[38;5;124m'\u001b[39m) \u001b[38;5;129;01mand\u001b[39;00m \u001b[38;5;129;01mnot\u001b[39;00m \u001b[38;5;28misinstance\u001b[39m(data, ndarray):\n",
      "File \u001b[0;32m~/Documents/GitHub/climate-health-bangladesh/climate_health_bangladesh/lib/python3.9/site-packages/numpy/ma/core.py:3010\u001b[0m, in \u001b[0;36mMaskedArray.__array_finalize__\u001b[0;34m(self, obj)\u001b[0m\n\u001b[1;32m   3005\u001b[0m \u001b[38;5;250m\u001b[39m\u001b[38;5;124;03m\"\"\"\u001b[39;00m\n\u001b[1;32m   3006\u001b[0m \u001b[38;5;124;03mFinalizes the masked array.\u001b[39;00m\n\u001b[1;32m   3007\u001b[0m \n\u001b[1;32m   3008\u001b[0m \u001b[38;5;124;03m\"\"\"\u001b[39;00m\n\u001b[1;32m   3009\u001b[0m \u001b[38;5;66;03m# Get main attributes.\u001b[39;00m\n\u001b[0;32m-> 3010\u001b[0m \u001b[38;5;28;43mself\u001b[39;49m\u001b[38;5;241;43m.\u001b[39;49m\u001b[43m_update_from\u001b[49m\u001b[43m(\u001b[49m\u001b[43mobj\u001b[49m\u001b[43m)\u001b[49m\n\u001b[1;32m   3012\u001b[0m \u001b[38;5;66;03m# We have to decide how to initialize self.mask, based on\u001b[39;00m\n\u001b[1;32m   3013\u001b[0m \u001b[38;5;66;03m# obj.mask. This is very difficult.  There might be some\u001b[39;00m\n\u001b[1;32m   3014\u001b[0m \u001b[38;5;66;03m# correspondence between the elements in the array we are being\u001b[39;00m\n\u001b[0;32m   (...)\u001b[0m\n\u001b[1;32m   3036\u001b[0m \u001b[38;5;66;03m# mask), then we make a copy of the template object mask and use\u001b[39;00m\n\u001b[1;32m   3037\u001b[0m \u001b[38;5;66;03m# that. This is also horribly broken but somewhat less so. Maybe.\u001b[39;00m\n\u001b[1;32m   3038\u001b[0m \u001b[38;5;28;01mif\u001b[39;00m \u001b[38;5;28misinstance\u001b[39m(obj, ndarray):\n\u001b[1;32m   3039\u001b[0m     \u001b[38;5;66;03m# XX: This looks like a bug -- shouldn't it check self.dtype\u001b[39;00m\n\u001b[1;32m   3040\u001b[0m     \u001b[38;5;66;03m# instead?\u001b[39;00m\n",
      "File \u001b[0;32m~/Documents/GitHub/climate-health-bangladesh/climate_health_bangladesh/lib/python3.9/site-packages/numpy/ma/core.py:3000\u001b[0m, in \u001b[0;36mMaskedArray._update_from\u001b[0;34m(self, obj)\u001b[0m\n\u001b[1;32m   2992\u001b[0m     _optinfo\u001b[38;5;241m.\u001b[39mupdate(\u001b[38;5;28mgetattr\u001b[39m(obj, \u001b[38;5;124m'\u001b[39m\u001b[38;5;124m__dict__\u001b[39m\u001b[38;5;124m'\u001b[39m, {}))\n\u001b[1;32m   2993\u001b[0m _dict \u001b[38;5;241m=\u001b[39m \u001b[38;5;28mdict\u001b[39m(_fill_value\u001b[38;5;241m=\u001b[39m\u001b[38;5;28mgetattr\u001b[39m(obj, \u001b[38;5;124m'\u001b[39m\u001b[38;5;124m_fill_value\u001b[39m\u001b[38;5;124m'\u001b[39m, \u001b[38;5;28;01mNone\u001b[39;00m),\n\u001b[1;32m   2994\u001b[0m              _hardmask\u001b[38;5;241m=\u001b[39m\u001b[38;5;28mgetattr\u001b[39m(obj, \u001b[38;5;124m'\u001b[39m\u001b[38;5;124m_hardmask\u001b[39m\u001b[38;5;124m'\u001b[39m, \u001b[38;5;28;01mFalse\u001b[39;00m),\n\u001b[1;32m   2995\u001b[0m              _sharedmask\u001b[38;5;241m=\u001b[39m\u001b[38;5;28mgetattr\u001b[39m(obj, \u001b[38;5;124m'\u001b[39m\u001b[38;5;124m_sharedmask\u001b[39m\u001b[38;5;124m'\u001b[39m, \u001b[38;5;28;01mFalse\u001b[39;00m),\n\u001b[0;32m   (...)\u001b[0m\n\u001b[1;32m   2998\u001b[0m              _optinfo\u001b[38;5;241m=\u001b[39m_optinfo,\n\u001b[1;32m   2999\u001b[0m              _basedict\u001b[38;5;241m=\u001b[39m_optinfo)\n\u001b[0;32m-> 3000\u001b[0m \u001b[38;5;28;43mself\u001b[39;49m\u001b[38;5;241;43m.\u001b[39;49m\u001b[38;5;18;43m__dict__\u001b[39;49m\u001b[38;5;241m.\u001b[39mupdate(_dict)\n\u001b[1;32m   3001\u001b[0m \u001b[38;5;28mself\u001b[39m\u001b[38;5;241m.\u001b[39m\u001b[38;5;18m__dict__\u001b[39m\u001b[38;5;241m.\u001b[39mupdate(_optinfo)\n\u001b[1;32m   3002\u001b[0m \u001b[38;5;28;01mreturn\u001b[39;00m\n",
      "\u001b[0;31mKeyboardInterrupt\u001b[0m: "
     ]
    }
   ],
   "source": [
    "# Open the NetCDF file\n",
    "dataset = nc.Dataset('data/chirps-v2.0.annual.nc')\n",
    "\n",
    "# Extract variable\n",
    "precip = dataset.variables['precip']\n",
    "\n",
    "# Get dimensions assuming 3D: time, latitude, longitude\n",
    "time_dim, lat_dim, lon_dim = precip.get_dims()\n",
    "time_var = dataset.variables[time_dim.name]\n",
    "times = nc.num2date(time_var[:], time_var.units)\n",
    "latitudes = dataset.variables[lat_dim.name][:]\n",
    "longitudes = dataset.variables[lon_dim.name][:]\n",
    "\n",
    "# Define Bangladesh's geographical boundaries\n",
    "lat_min, lat_max = 20.5, 26.5\n",
    "lon_min, lon_max = 88.0, 92.5\n",
    "\n",
    "# Create a mask for latitudes and longitudes\n",
    "lat_mask = (latitudes >= lat_min) & (latitudes <= lat_max)\n",
    "lon_mask = (longitudes >= lon_min) & (longitudes <= lon_max)\n",
    "\n",
    "# Get indices for the filtered latitudes and longitudes\n",
    "lat_indices = np.where(lat_mask)[0]\n",
    "lon_indices = np.where(lon_mask)[0]\n",
    "\n",
    "# Initialize lists for storing filtered data\n",
    "filtered_times = []\n",
    "filtered_latitudes = []\n",
    "filtered_longitudes = []\n",
    "filtered_precip = []\n",
    "\n",
    "# Filter data\n",
    "for t in range(len(times)):\n",
    "    for lat_index in lat_indices:\n",
    "        for lon_index in lon_indices:\n",
    "            filtered_times.append(times[t].isoformat())\n",
    "            filtered_latitudes.append(latitudes[lat_index])\n",
    "            filtered_longitudes.append(longitudes[lon_index])\n",
    "            filtered_precip.append(precip[t, lat_index, lon_index])\n",
    "\n",
    "# Create DataFrame\n",
    "df = pd.DataFrame({\n",
    "    'time': filtered_times,\n",
    "    'latitude': filtered_latitudes,\n",
    "    'longitude': filtered_longitudes,\n",
    "    'precip': filtered_precip\n",
    "})\n",
    "\n",
    "print(df)\n",
    "\n",
    "# Define output directory and filename\n",
    "output_dir = 'data/'\n",
    "filename = os.path.join(output_dir, 'chirps_bangladesh.csv')\n",
    "\n",
    "# Export to CSV\n",
    "print(f'Writing data in tabular form to {filename} (this may take some time)...')\n",
    "df.to_csv(filename, index=False)\n",
    "print('Done')\n"
   ]
  },
  {
   "cell_type": "code",
   "execution_count": 12,
   "metadata": {},
   "outputs": [],
   "source": [
    "file_path = 'data/journal.pone.0255519.s001.csv'\n",
    "\n",
    "df = pd.read_csv(file_path)\n",
    "\n",
    "bangladesh_df = df[df['country'] == 'Bangladesh'].copy()"
   ]
  },
  {
   "cell_type": "code",
   "execution_count": 18,
   "metadata": {},
   "outputs": [
    {
     "name": "stdout",
     "output_type": "stream",
     "text": [
      "   shapeName shapeISO                  shapeID shapeGroup shapeType  \\\n",
      "0   Bagerhat           16705992B77600989823530        BGD      ADM2   \n",
      "1  Bandarban           16705992B23463827258150        BGD      ADM2   \n",
      "2    Barguna           16705992B13795829103768        BGD      ADM2   \n",
      "3    Barisal           16705992B66943755852345        BGD      ADM2   \n",
      "4      Bhola           16705992B37732832620169        BGD      ADM2   \n",
      "\n",
      "                                            geometry  \n",
      "0  MULTIPOLYGON (((89.84021 21.82784, 89.84011 21...  \n",
      "1  POLYGON ((92.61391 21.85191, 92.59671 21.86793...  \n",
      "2  MULTIPOLYGON (((89.87968 22.07869, 89.88024 22...  \n",
      "3  MULTIPOLYGON (((90.55435 22.59264, 90.55429 22...  \n",
      "4  MULTIPOLYGON (((90.77172 21.85595, 90.77446 21...  \n",
      "   Unnamed: 0  URBAN_RURA      alt     chrps     country  deathcount  \\\n",
      "0           0           1  5.60252  0.437479  Bangladesh           0   \n",
      "1           1           1  4.67774  0.447809  Bangladesh           0   \n",
      "2           2           1  5.14527  0.453208  Bangladesh           0   \n",
      "3           3           1  6.17460  0.433324  Bangladesh           0   \n",
      "4           4           1  5.39076  0.406196  Bangladesh           0   \n",
      "\n",
      "      latnum    longnum       lst  marketm0  ...     tree  tt00_500k  year  \\\n",
      "0  22.981516  90.155785 -1.065822       NaN  ...  16.3438    365.678  2004   \n",
      "1  22.444431  90.329185 -0.963057       NaN  ...   0.0000    397.886  2004   \n",
      "2  22.487263  90.206123 -0.963257       NaN  ...   0.0000    344.366  2004   \n",
      "3  23.016359  90.192879 -1.074995       NaN  ...  16.0333    369.385  2004   \n",
      "4  22.952404  90.454414 -1.065344       NaN  ...  18.7647    273.924  2004   \n",
      "\n",
      "    stunted    wasted   healthy   poorest  underweight_bmi  \\\n",
      "0  0.294118  0.058824  0.941176  0.071429         0.272727   \n",
      "1  0.444444  0.000000  1.000000  0.062500         0.400000   \n",
      "2  0.600000  0.050000  0.950000  0.000000         0.354839   \n",
      "3  0.500000  0.062500  0.937500  0.062500         0.323529   \n",
      "4  0.555556  0.000000  1.000000  0.111111         0.277778   \n",
      "\n",
      "                    geometry      region  \n",
      "0  POINT (90.15578 22.98152)     Barisal  \n",
      "1  POINT (90.32919 22.44443)  Patuakhali  \n",
      "2  POINT (90.20612 22.48726)     Barisal  \n",
      "3  POINT (90.19288 23.01636)     Barisal  \n",
      "4   POINT (90.45441 22.9524)     Barisal  \n",
      "\n",
      "[5 rows x 119 columns]\n"
     ]
    }
   ],
   "source": [
    "import geopandas as gpd\n",
    "from shapely.geometry import Point\n",
    "\n",
    "# Load geographical regions from a GeoJSON file\n",
    "regions = gpd.read_file('data/geoBoundaries-BGD-ADM2.geojson')\n",
    "\n",
    "# Create Points for each latitude and longitude\n",
    "bangladesh_df['geometry'] = bangladesh_df.apply(lambda row: Point(row['longnum'], row['latnum']), axis=1)\n",
    "\n",
    "# Create a GeoDataFrame from the DataFrame\n",
    "gdf = gpd.GeoDataFrame(bangladesh_df, geometry='geometry')\n",
    "\n",
    "# Check which region each point falls into and create a new column for regions\n",
    "gdf['region'] = gdf.apply(\n",
    "    lambda row: regions[regions.contains(row['geometry'])].iloc[0]['shapeName'] \n",
    "    if not regions[regions.contains(row['geometry'])].empty else None, \n",
    "    axis=1\n",
    ")\n",
    "\n",
    "gdf.to_csv('data/bangladesh_geodata.csv', index=False)"
   ]
  },
  {
   "cell_type": "code",
   "execution_count": 21,
   "metadata": {
    "vscode": {
     "languageId": "sql"
    }
   },
   "outputs": [
    {
     "ename": "KeyError",
     "evalue": "\"['marketm0', 'marketm1', 'marketm10', 'marketm11', 'marketm12', 'marketm13', 'marketm14', 'marketm15', 'marketm16', 'marketm17', 'marketm18', 'marketm19', 'marketm2', 'marketm20', 'marketm21', 'marketm22', 'marketm23', 'marketm24', 'marketm25', 'marketm26', 'marketm27', 'marketm28', 'marketm29', 'marketm3', 'marketm30', 'marketm31', 'marketm32', 'marketm33', 'marketm34', 'marketm35', 'marketm36', 'marketm37', 'marketm38', 'marketm39', 'marketm4', 'marketm40', 'marketm41', 'marketm42', 'marketm43', 'marketm44', 'marketm45', 'marketm46', 'marketm47', 'marketm5', 'marketm6', 'marketm7', 'marketm8', 'marketm9', 'markets0', 'markets1', 'markets10', 'markets11', 'markets12', 'markets13', 'markets14', 'markets15', 'markets16', 'markets17', 'markets18', 'markets19', 'markets2', 'markets20', 'markets21', 'markets22', 'markets23', 'markets24', 'markets25', 'markets26', 'markets27', 'markets28', 'markets29', 'markets3', 'markets30', 'markets31', 'markets32', 'markets33', 'markets34', 'markets35', 'markets36', 'markets37', 'markets38', 'markets39', 'markets4', 'markets40', 'markets41', 'markets42', 'markets43', 'markets44', 'markets45', 'markets46', 'markets47', 'markets5', 'markets6', 'markets7', 'markets8', 'markets9'] not found in axis\"",
     "output_type": "error",
     "traceback": [
      "\u001b[0;31m---------------------------------------------------------------------------\u001b[0m",
      "\u001b[0;31mKeyError\u001b[0m                                  Traceback (most recent call last)",
      "Cell \u001b[0;32mIn[21], line 26\u001b[0m\n\u001b[1;32m      4\u001b[0m \u001b[38;5;66;03m# Drop specific columns\u001b[39;00m\n\u001b[1;32m      5\u001b[0m columns_to_drop \u001b[38;5;241m=\u001b[39m [\n\u001b[1;32m      6\u001b[0m     \u001b[38;5;124m'\u001b[39m\u001b[38;5;124mmarketm0\u001b[39m\u001b[38;5;124m'\u001b[39m, \u001b[38;5;124m'\u001b[39m\u001b[38;5;124mmarketm1\u001b[39m\u001b[38;5;124m'\u001b[39m, \u001b[38;5;124m'\u001b[39m\u001b[38;5;124mmarketm10\u001b[39m\u001b[38;5;124m'\u001b[39m, \u001b[38;5;124m'\u001b[39m\u001b[38;5;124mmarketm11\u001b[39m\u001b[38;5;124m'\u001b[39m, \u001b[38;5;124m'\u001b[39m\u001b[38;5;124mmarketm12\u001b[39m\u001b[38;5;124m'\u001b[39m, \n\u001b[1;32m      7\u001b[0m     \u001b[38;5;124m'\u001b[39m\u001b[38;5;124mmarketm13\u001b[39m\u001b[38;5;124m'\u001b[39m, \u001b[38;5;124m'\u001b[39m\u001b[38;5;124mmarketm14\u001b[39m\u001b[38;5;124m'\u001b[39m, \u001b[38;5;124m'\u001b[39m\u001b[38;5;124mmarketm15\u001b[39m\u001b[38;5;124m'\u001b[39m, \u001b[38;5;124m'\u001b[39m\u001b[38;5;124mmarketm16\u001b[39m\u001b[38;5;124m'\u001b[39m, \u001b[38;5;124m'\u001b[39m\u001b[38;5;124mmarketm17\u001b[39m\u001b[38;5;124m'\u001b[39m, \n\u001b[0;32m   (...)\u001b[0m\n\u001b[1;32m     24\u001b[0m     \u001b[38;5;124m'\u001b[39m\u001b[38;5;124mmarkets47\u001b[39m\u001b[38;5;124m'\u001b[39m, \u001b[38;5;124m'\u001b[39m\u001b[38;5;124mmarkets5\u001b[39m\u001b[38;5;124m'\u001b[39m, \u001b[38;5;124m'\u001b[39m\u001b[38;5;124mmarkets6\u001b[39m\u001b[38;5;124m'\u001b[39m, \u001b[38;5;124m'\u001b[39m\u001b[38;5;124mmarkets7\u001b[39m\u001b[38;5;124m'\u001b[39m, \u001b[38;5;124m'\u001b[39m\u001b[38;5;124mmarkets8\u001b[39m\u001b[38;5;124m'\u001b[39m, \n\u001b[1;32m     25\u001b[0m     \u001b[38;5;124m'\u001b[39m\u001b[38;5;124mmarkets9\u001b[39m\u001b[38;5;124m'\u001b[39m]\n\u001b[0;32m---> 26\u001b[0m df_dropped \u001b[38;5;241m=\u001b[39m \u001b[43mdf\u001b[49m\u001b[38;5;241;43m.\u001b[39;49m\u001b[43mdrop\u001b[49m\u001b[43m(\u001b[49m\u001b[43mcolumns\u001b[49m\u001b[38;5;241;43m=\u001b[39;49m\u001b[43mcolumns_to_drop\u001b[49m\u001b[43m)\u001b[49m\n\u001b[1;32m     28\u001b[0m \u001b[38;5;66;03m# Optionally, save the modified DataFrame back to a CSV\u001b[39;00m\n\u001b[1;32m     29\u001b[0m df_dropped\u001b[38;5;241m.\u001b[39mto_csv(\u001b[38;5;124m'\u001b[39m\u001b[38;5;124mdata/bangladesh_geodata.csv\u001b[39m\u001b[38;5;124m'\u001b[39m, index\u001b[38;5;241m=\u001b[39m\u001b[38;5;28;01mFalse\u001b[39;00m)\n",
      "File \u001b[0;32m~/Documents/GitHub/climate-health-bangladesh/climate_health_bangladesh/lib/python3.9/site-packages/pandas/core/frame.py:5581\u001b[0m, in \u001b[0;36mDataFrame.drop\u001b[0;34m(self, labels, axis, index, columns, level, inplace, errors)\u001b[0m\n\u001b[1;32m   5433\u001b[0m \u001b[38;5;28;01mdef\u001b[39;00m \u001b[38;5;21mdrop\u001b[39m(\n\u001b[1;32m   5434\u001b[0m     \u001b[38;5;28mself\u001b[39m,\n\u001b[1;32m   5435\u001b[0m     labels: IndexLabel \u001b[38;5;241m|\u001b[39m \u001b[38;5;28;01mNone\u001b[39;00m \u001b[38;5;241m=\u001b[39m \u001b[38;5;28;01mNone\u001b[39;00m,\n\u001b[0;32m   (...)\u001b[0m\n\u001b[1;32m   5442\u001b[0m     errors: IgnoreRaise \u001b[38;5;241m=\u001b[39m \u001b[38;5;124m\"\u001b[39m\u001b[38;5;124mraise\u001b[39m\u001b[38;5;124m\"\u001b[39m,\n\u001b[1;32m   5443\u001b[0m ) \u001b[38;5;241m-\u001b[39m\u001b[38;5;241m>\u001b[39m DataFrame \u001b[38;5;241m|\u001b[39m \u001b[38;5;28;01mNone\u001b[39;00m:\n\u001b[1;32m   5444\u001b[0m \u001b[38;5;250m    \u001b[39m\u001b[38;5;124;03m\"\"\"\u001b[39;00m\n\u001b[1;32m   5445\u001b[0m \u001b[38;5;124;03m    Drop specified labels from rows or columns.\u001b[39;00m\n\u001b[1;32m   5446\u001b[0m \n\u001b[0;32m   (...)\u001b[0m\n\u001b[1;32m   5579\u001b[0m \u001b[38;5;124;03m            weight  1.0     0.8\u001b[39;00m\n\u001b[1;32m   5580\u001b[0m \u001b[38;5;124;03m    \"\"\"\u001b[39;00m\n\u001b[0;32m-> 5581\u001b[0m     \u001b[38;5;28;01mreturn\u001b[39;00m \u001b[38;5;28;43msuper\u001b[39;49m\u001b[43m(\u001b[49m\u001b[43m)\u001b[49m\u001b[38;5;241;43m.\u001b[39;49m\u001b[43mdrop\u001b[49m\u001b[43m(\u001b[49m\n\u001b[1;32m   5582\u001b[0m \u001b[43m        \u001b[49m\u001b[43mlabels\u001b[49m\u001b[38;5;241;43m=\u001b[39;49m\u001b[43mlabels\u001b[49m\u001b[43m,\u001b[49m\n\u001b[1;32m   5583\u001b[0m \u001b[43m        \u001b[49m\u001b[43maxis\u001b[49m\u001b[38;5;241;43m=\u001b[39;49m\u001b[43maxis\u001b[49m\u001b[43m,\u001b[49m\n\u001b[1;32m   5584\u001b[0m \u001b[43m        \u001b[49m\u001b[43mindex\u001b[49m\u001b[38;5;241;43m=\u001b[39;49m\u001b[43mindex\u001b[49m\u001b[43m,\u001b[49m\n\u001b[1;32m   5585\u001b[0m \u001b[43m        \u001b[49m\u001b[43mcolumns\u001b[49m\u001b[38;5;241;43m=\u001b[39;49m\u001b[43mcolumns\u001b[49m\u001b[43m,\u001b[49m\n\u001b[1;32m   5586\u001b[0m \u001b[43m        \u001b[49m\u001b[43mlevel\u001b[49m\u001b[38;5;241;43m=\u001b[39;49m\u001b[43mlevel\u001b[49m\u001b[43m,\u001b[49m\n\u001b[1;32m   5587\u001b[0m \u001b[43m        \u001b[49m\u001b[43minplace\u001b[49m\u001b[38;5;241;43m=\u001b[39;49m\u001b[43minplace\u001b[49m\u001b[43m,\u001b[49m\n\u001b[1;32m   5588\u001b[0m \u001b[43m        \u001b[49m\u001b[43merrors\u001b[49m\u001b[38;5;241;43m=\u001b[39;49m\u001b[43merrors\u001b[49m\u001b[43m,\u001b[49m\n\u001b[1;32m   5589\u001b[0m \u001b[43m    \u001b[49m\u001b[43m)\u001b[49m\n",
      "File \u001b[0;32m~/Documents/GitHub/climate-health-bangladesh/climate_health_bangladesh/lib/python3.9/site-packages/pandas/core/generic.py:4788\u001b[0m, in \u001b[0;36mNDFrame.drop\u001b[0;34m(self, labels, axis, index, columns, level, inplace, errors)\u001b[0m\n\u001b[1;32m   4786\u001b[0m \u001b[38;5;28;01mfor\u001b[39;00m axis, labels \u001b[38;5;129;01min\u001b[39;00m axes\u001b[38;5;241m.\u001b[39mitems():\n\u001b[1;32m   4787\u001b[0m     \u001b[38;5;28;01mif\u001b[39;00m labels \u001b[38;5;129;01mis\u001b[39;00m \u001b[38;5;129;01mnot\u001b[39;00m \u001b[38;5;28;01mNone\u001b[39;00m:\n\u001b[0;32m-> 4788\u001b[0m         obj \u001b[38;5;241m=\u001b[39m \u001b[43mobj\u001b[49m\u001b[38;5;241;43m.\u001b[39;49m\u001b[43m_drop_axis\u001b[49m\u001b[43m(\u001b[49m\u001b[43mlabels\u001b[49m\u001b[43m,\u001b[49m\u001b[43m \u001b[49m\u001b[43maxis\u001b[49m\u001b[43m,\u001b[49m\u001b[43m \u001b[49m\u001b[43mlevel\u001b[49m\u001b[38;5;241;43m=\u001b[39;49m\u001b[43mlevel\u001b[49m\u001b[43m,\u001b[49m\u001b[43m \u001b[49m\u001b[43merrors\u001b[49m\u001b[38;5;241;43m=\u001b[39;49m\u001b[43merrors\u001b[49m\u001b[43m)\u001b[49m\n\u001b[1;32m   4790\u001b[0m \u001b[38;5;28;01mif\u001b[39;00m inplace:\n\u001b[1;32m   4791\u001b[0m     \u001b[38;5;28mself\u001b[39m\u001b[38;5;241m.\u001b[39m_update_inplace(obj)\n",
      "File \u001b[0;32m~/Documents/GitHub/climate-health-bangladesh/climate_health_bangladesh/lib/python3.9/site-packages/pandas/core/generic.py:4830\u001b[0m, in \u001b[0;36mNDFrame._drop_axis\u001b[0;34m(self, labels, axis, level, errors, only_slice)\u001b[0m\n\u001b[1;32m   4828\u001b[0m         new_axis \u001b[38;5;241m=\u001b[39m axis\u001b[38;5;241m.\u001b[39mdrop(labels, level\u001b[38;5;241m=\u001b[39mlevel, errors\u001b[38;5;241m=\u001b[39merrors)\n\u001b[1;32m   4829\u001b[0m     \u001b[38;5;28;01melse\u001b[39;00m:\n\u001b[0;32m-> 4830\u001b[0m         new_axis \u001b[38;5;241m=\u001b[39m \u001b[43maxis\u001b[49m\u001b[38;5;241;43m.\u001b[39;49m\u001b[43mdrop\u001b[49m\u001b[43m(\u001b[49m\u001b[43mlabels\u001b[49m\u001b[43m,\u001b[49m\u001b[43m \u001b[49m\u001b[43merrors\u001b[49m\u001b[38;5;241;43m=\u001b[39;49m\u001b[43merrors\u001b[49m\u001b[43m)\u001b[49m\n\u001b[1;32m   4831\u001b[0m     indexer \u001b[38;5;241m=\u001b[39m axis\u001b[38;5;241m.\u001b[39mget_indexer(new_axis)\n\u001b[1;32m   4833\u001b[0m \u001b[38;5;66;03m# Case for non-unique axis\u001b[39;00m\n\u001b[1;32m   4834\u001b[0m \u001b[38;5;28;01melse\u001b[39;00m:\n",
      "File \u001b[0;32m~/Documents/GitHub/climate-health-bangladesh/climate_health_bangladesh/lib/python3.9/site-packages/pandas/core/indexes/base.py:7070\u001b[0m, in \u001b[0;36mIndex.drop\u001b[0;34m(self, labels, errors)\u001b[0m\n\u001b[1;32m   7068\u001b[0m \u001b[38;5;28;01mif\u001b[39;00m mask\u001b[38;5;241m.\u001b[39many():\n\u001b[1;32m   7069\u001b[0m     \u001b[38;5;28;01mif\u001b[39;00m errors \u001b[38;5;241m!=\u001b[39m \u001b[38;5;124m\"\u001b[39m\u001b[38;5;124mignore\u001b[39m\u001b[38;5;124m\"\u001b[39m:\n\u001b[0;32m-> 7070\u001b[0m         \u001b[38;5;28;01mraise\u001b[39;00m \u001b[38;5;167;01mKeyError\u001b[39;00m(\u001b[38;5;124mf\u001b[39m\u001b[38;5;124m\"\u001b[39m\u001b[38;5;132;01m{\u001b[39;00mlabels[mask]\u001b[38;5;241m.\u001b[39mtolist()\u001b[38;5;132;01m}\u001b[39;00m\u001b[38;5;124m not found in axis\u001b[39m\u001b[38;5;124m\"\u001b[39m)\n\u001b[1;32m   7071\u001b[0m     indexer \u001b[38;5;241m=\u001b[39m indexer[\u001b[38;5;241m~\u001b[39mmask]\n\u001b[1;32m   7072\u001b[0m \u001b[38;5;28;01mreturn\u001b[39;00m \u001b[38;5;28mself\u001b[39m\u001b[38;5;241m.\u001b[39mdelete(indexer)\n",
      "\u001b[0;31mKeyError\u001b[0m: \"['marketm0', 'marketm1', 'marketm10', 'marketm11', 'marketm12', 'marketm13', 'marketm14', 'marketm15', 'marketm16', 'marketm17', 'marketm18', 'marketm19', 'marketm2', 'marketm20', 'marketm21', 'marketm22', 'marketm23', 'marketm24', 'marketm25', 'marketm26', 'marketm27', 'marketm28', 'marketm29', 'marketm3', 'marketm30', 'marketm31', 'marketm32', 'marketm33', 'marketm34', 'marketm35', 'marketm36', 'marketm37', 'marketm38', 'marketm39', 'marketm4', 'marketm40', 'marketm41', 'marketm42', 'marketm43', 'marketm44', 'marketm45', 'marketm46', 'marketm47', 'marketm5', 'marketm6', 'marketm7', 'marketm8', 'marketm9', 'markets0', 'markets1', 'markets10', 'markets11', 'markets12', 'markets13', 'markets14', 'markets15', 'markets16', 'markets17', 'markets18', 'markets19', 'markets2', 'markets20', 'markets21', 'markets22', 'markets23', 'markets24', 'markets25', 'markets26', 'markets27', 'markets28', 'markets29', 'markets3', 'markets30', 'markets31', 'markets32', 'markets33', 'markets34', 'markets35', 'markets36', 'markets37', 'markets38', 'markets39', 'markets4', 'markets40', 'markets41', 'markets42', 'markets43', 'markets44', 'markets45', 'markets46', 'markets47', 'markets5', 'markets6', 'markets7', 'markets8', 'markets9'] not found in axis\""
     ]
    }
   ],
   "source": [
    "# Load the CSV file\n",
    "df = pd.read_csv('data/bangladesh_geodata.csv')\n",
    "\n",
    "# Drop specific columns\n",
    "columns_to_drop = [\n",
    "    'marketm0', 'marketm1', 'marketm10', 'marketm11', 'marketm12', \n",
    "    'marketm13', 'marketm14', 'marketm15', 'marketm16', 'marketm17', \n",
    "    'marketm18', 'marketm19', 'marketm2', 'marketm20', 'marketm21', \n",
    "    'marketm22', 'marketm23', 'marketm24', 'marketm25', 'marketm26', \n",
    "    'marketm27', 'marketm28', 'marketm29', 'marketm3', 'marketm30', \n",
    "    'marketm31', 'marketm32', 'marketm33', 'marketm34', 'marketm35', \n",
    "    'marketm36', 'marketm37', 'marketm38', 'marketm39', 'marketm4', \n",
    "    'marketm40', 'marketm41', 'marketm42', 'marketm43', 'marketm44', \n",
    "    'marketm45', 'marketm46', 'marketm47', 'marketm5', 'marketm6', \n",
    "    'marketm7', 'marketm8', 'marketm9', 'markets0', 'markets1', \n",
    "    'markets10', 'markets11', 'markets12', 'markets13', 'markets14', \n",
    "    'markets15', 'markets16', 'markets17', 'markets18', 'markets19', \n",
    "    'markets2', 'markets20', 'markets21', 'markets22', 'markets23', \n",
    "    'markets24', 'markets25', 'markets26', 'markets27', 'markets28', \n",
    "    'markets29', 'markets3', 'markets30', 'markets31', 'markets32', \n",
    "    'markets33', 'markets34', 'markets35', 'markets36', 'markets37', \n",
    "    'markets38', 'markets39', 'markets4', 'markets40', 'markets41', \n",
    "    'markets42', 'markets43', 'markets44', 'markets45', 'markets46', \n",
    "    'markets47', 'markets5', 'markets6', 'markets7', 'markets8', \n",
    "    'markets9']\n",
    "df_dropped = df.drop(columns=columns_to_drop)\n",
    "\n",
    "# Optionally, save the modified DataFrame back to a CSV\n",
    "df_dropped.to_csv('data/bangladesh_geodata.csv', index=False)"
   ]
  }
 ],
 "metadata": {
  "kernelspec": {
   "display_name": "climate_health_bangladesh",
   "language": "python",
   "name": "python3"
  },
  "language_info": {
   "codemirror_mode": {
    "name": "ipython",
    "version": 3
   },
   "file_extension": ".py",
   "mimetype": "text/x-python",
   "name": "python",
   "nbconvert_exporter": "python",
   "pygments_lexer": "ipython3",
   "version": "3.9.12"
  }
 },
 "nbformat": 4,
 "nbformat_minor": 2
}
